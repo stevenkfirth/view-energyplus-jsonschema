{
 "cells": [
  {
   "cell_type": "markdown",
   "id": "2c8e1324",
   "metadata": {},
   "source": [
    "# generate_md_files"
   ]
  },
  {
   "cell_type": "code",
   "execution_count": 15,
   "id": "bbc98166",
   "metadata": {},
   "outputs": [],
   "source": [
    "import json\n",
    "import os"
   ]
  },
  {
   "cell_type": "code",
   "execution_count": 3,
   "id": "64f38b47",
   "metadata": {},
   "outputs": [],
   "source": [
    "with open('Energy+.schema.epJSON') as f:\n",
    "    schema=json.load(f)"
   ]
  },
  {
   "cell_type": "code",
   "execution_count": 4,
   "id": "e0da912d",
   "metadata": {},
   "outputs": [
    {
     "data": {
      "text/plain": [
       "['$schema',\n",
       " 'properties',\n",
       " 'required',\n",
       " 'epJSON_schema_version',\n",
       " 'epJSON_schema_build']"
      ]
     },
     "execution_count": 4,
     "metadata": {},
     "output_type": "execute_result"
    }
   ],
   "source": [
    "list(schema.keys())"
   ]
  },
  {
   "cell_type": "code",
   "execution_count": 36,
   "id": "c8710a5c",
   "metadata": {},
   "outputs": [],
   "source": [
    "for k,v in schema['properties'].items():\n",
    "    group=v['group']\n",
    "    fp=os.path.join(group.replace('/','%2F'),k.replace(':','%3A'))\n",
    "    try:\n",
    "        os.makedirs(fp)\n",
    "    except FileExistsError:\n",
    "        pass\n",
    "    with open(os.path.join(fp,'README.md'),'w') as f:\n",
    "        f.write('```\\n')\n",
    "        json.dump({k:v},f,indent=4)\n",
    "        f.write('\\n```\\n')\n",
    "        \n",
    "    #break"
   ]
  },
  {
   "cell_type": "code",
   "execution_count": null,
   "id": "4c8c8403",
   "metadata": {},
   "outputs": [],
   "source": []
  }
 ],
 "metadata": {
  "kernelspec": {
   "display_name": "Python 3 (ipykernel)",
   "language": "python",
   "name": "python3"
  },
  "language_info": {
   "codemirror_mode": {
    "name": "ipython",
    "version": 3
   },
   "file_extension": ".py",
   "mimetype": "text/x-python",
   "name": "python",
   "nbconvert_exporter": "python",
   "pygments_lexer": "ipython3",
   "version": "3.9.7"
  }
 },
 "nbformat": 4,
 "nbformat_minor": 5
}
