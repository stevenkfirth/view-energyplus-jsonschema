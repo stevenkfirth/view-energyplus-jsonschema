{
 "cells": [
  {
   "cell_type": "markdown",
   "id": "6627532e",
   "metadata": {},
   "source": [
    "# generate_md_files"
   ]
  },
  {
   "cell_type": "code",
   "execution_count": 15,
   "id": "0c1cdbeb",
   "metadata": {},
   "outputs": [],
   "source": [
    "import json\n",
    "import os"
   ]
  },
  {
   "cell_type": "code",
   "execution_count": 3,
   "id": "b711333e",
   "metadata": {},
   "outputs": [],
   "source": [
    "with open('Energy+.schema.epJSON') as f:\n",
    "    schema=json.load(f)"
   ]
  },
  {
   "cell_type": "code",
   "execution_count": 4,
   "id": "fb1d356a",
   "metadata": {},
   "outputs": [
    {
     "data": {
      "text/plain": [
       "['$schema',\n",
       " 'properties',\n",
       " 'required',\n",
       " 'epJSON_schema_version',\n",
       " 'epJSON_schema_build']"
      ]
     },
     "execution_count": 4,
     "metadata": {},
     "output_type": "execute_result"
    }
   ],
   "source": [
    "list(schema.keys())"
   ]
  },
  {
   "cell_type": "code",
   "execution_count": 29,
   "id": "ae944c8a",
   "metadata": {},
   "outputs": [],
   "source": [
    "for k,v in schema['properties'].items():\n",
    "    group=v['group']\n",
    "    fp=os.path.join(group.replace('/','%2F'),k.replace(':','%3A'))\n",
    "    try:\n",
    "        os.makedirs(fp)\n",
    "    except FileExistsError:\n",
    "        pass\n",
    "    with open(os.path.join(fp,'README.md'),'w') as f:\n",
    "        f.write(json.dumps(v))\n",
    "        \n",
    "        \n",
    "    break"
   ]
  },
  {
   "cell_type": "code",
   "execution_count": null,
   "id": "eaed39b4",
   "metadata": {},
   "outputs": [],
   "source": []
  },
  {
   "cell_type": "code",
   "execution_count": 14,
   "id": "2a7c29cf",
   "metadata": {
    "scrolled": true
   },
   "outputs": [
    {
     "data": {
      "text/plain": [
       "['Simulation Parameters',\n",
       " 'Compliance Objects',\n",
       " 'Location and Climate',\n",
       " 'Schedules',\n",
       " 'Surface Construction Elements',\n",
       " 'Thermal Zones and Surfaces',\n",
       " 'Advanced Construction, Surface, Zone Concepts',\n",
       " 'Detailed Ground Heat Transfer',\n",
       " 'Room Air Models',\n",
       " 'Internal Gains',\n",
       " 'Daylighting',\n",
       " 'Zone Airflow',\n",
       " 'AirflowNetwork',\n",
       " 'Exterior Equipment',\n",
       " 'HVAC Templates',\n",
       " 'HVAC Design Objects',\n",
       " 'Zone HVAC Controls and Thermostats',\n",
       " 'Zone HVAC Forced Air Units',\n",
       " 'Zone HVAC Radiative/Convective Units',\n",
       " 'Zone HVAC Air Loop Terminal Units',\n",
       " 'Zone HVAC Equipment Connections',\n",
       " 'Fans',\n",
       " 'Coils',\n",
       " 'Evaporative Coolers',\n",
       " 'Humidifiers and Dehumidifiers',\n",
       " 'Heat Recovery',\n",
       " 'Unitary Equipment',\n",
       " 'Variable Refrigerant Flow Equipment',\n",
       " 'Controllers',\n",
       " 'Air Distribution',\n",
       " 'Node-Branch Management',\n",
       " 'Pumps',\n",
       " 'Plant-Condenser Flow Control',\n",
       " 'Non-Zone Equipment',\n",
       " 'Solar Collectors',\n",
       " 'Plant Heating and Cooling Equipment',\n",
       " 'Condenser Equipment and Heat Exchangers',\n",
       " 'Water Heaters and Thermal Storage',\n",
       " 'Plant-Condenser Loops',\n",
       " 'Plant-Condenser Control',\n",
       " 'Energy Management System (EMS)',\n",
       " 'External Interface',\n",
       " 'User Defined HVAC and Plant Component Models',\n",
       " 'System Availability Managers',\n",
       " 'Setpoint Managers',\n",
       " 'Refrigeration',\n",
       " 'Demand Limiting Controls',\n",
       " 'Electric Load Center-Generator Specifications',\n",
       " 'Water Systems',\n",
       " 'Operational Faults',\n",
       " 'General Data Entry',\n",
       " 'Hybrid Model',\n",
       " 'Performance Curves',\n",
       " 'Performance Tables',\n",
       " 'Fluid Properties',\n",
       " 'Economics',\n",
       " 'Parametrics',\n",
       " 'Output Reporting',\n",
       " 'Python Plugin System']"
      ]
     },
     "execution_count": 14,
     "metadata": {},
     "output_type": "execute_result"
    }
   ],
   "source": [
    "# get groups\n",
    "groups=[]\n",
    "for k,v in schema['properties'].items():\n",
    "    group=v['group']\n",
    "    if not group in groups:\n",
    "        groups.append(group)\n",
    "groups"
   ]
  },
  {
   "cell_type": "code",
   "execution_count": 25,
   "id": "212157f0",
   "metadata": {},
   "outputs": [],
   "source": [
    "# create folders\n",
    "for group in groups:\n",
    "    fp=group.replace('/','%2F')\n",
    "    try:\n",
    "        os.makedirs(fp)\n",
    "    except FileExistsError:\n",
    "        pass\n",
    "    for k,v in schema['properties'].items():\n",
    "        if v['group']==group:\n",
    "            fp1=os.path.join(fp,k.replace(':','%3A'))\n",
    "            try:\n",
    "                os.makedirs(fp1)\n",
    "            except FileExistsError:\n",
    "                pass\n",
    "            "
   ]
  },
  {
   "cell_type": "code",
   "execution_count": null,
   "id": "397de9b9",
   "metadata": {},
   "outputs": [],
   "source": []
  },
  {
   "cell_type": "code",
   "execution_count": null,
   "id": "330831da",
   "metadata": {},
   "outputs": [],
   "source": []
  },
  {
   "cell_type": "code",
   "execution_count": null,
   "id": "25a3edbb",
   "metadata": {},
   "outputs": [],
   "source": []
  },
  {
   "cell_type": "code",
   "execution_count": null,
   "id": "e54277c3",
   "metadata": {},
   "outputs": [],
   "source": []
  },
  {
   "cell_type": "code",
   "execution_count": null,
   "id": "1ad6b14c",
   "metadata": {},
   "outputs": [],
   "source": []
  }
 ],
 "metadata": {
  "kernelspec": {
   "display_name": "Python 3 (ipykernel)",
   "language": "python",
   "name": "python3"
  },
  "language_info": {
   "codemirror_mode": {
    "name": "ipython",
    "version": 3
   },
   "file_extension": ".py",
   "mimetype": "text/x-python",
   "name": "python",
   "nbconvert_exporter": "python",
   "pygments_lexer": "ipython3",
   "version": "3.9.7"
  }
 },
 "nbformat": 4,
 "nbformat_minor": 5
}
